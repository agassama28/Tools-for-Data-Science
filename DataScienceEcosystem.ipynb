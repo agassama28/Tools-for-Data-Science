{
 "cells": [
  {
   "cell_type": "markdown",
   "id": "a52ceddf-11e2-440a-935d-4c73233f6b42",
   "metadata": {},
   "source": [
    "# Data Science Tools and Ecosystem"
   ]
  },
  {
   "cell_type": "markdown",
   "id": "18e2af3f-26e4-4171-b700-d1ade85b779b",
   "metadata": {},
   "source": [
    "In this notebook, Data Science Tools and Ecosystem are summarized."
   ]
  },
  {
   "cell_type": "markdown",
   "id": "06264744-5f39-4bdc-9f9b-3c03a9399f72",
   "metadata": {},
   "source": [
    "**Objectives:**\n",
    "- List popular languages for Data Science\n",
    "- List poular libraries for Data Science\n",
    "- Display how to write arithmetic expressions"
   ]
  },
  {
   "cell_type": "markdown",
   "id": "5ef66cf2-0cdb-4e60-bd2d-4914c1bb6d34",
   "metadata": {},
   "source": [
    "Some of the popular languages that Data Scientis use are:\n",
    "1. Python\n",
    "2. R\n",
    "3. SQL"
   ]
  },
  {
   "cell_type": "markdown",
   "id": "be70ba4e-e077-46b9-8c37-3dc56e071f48",
   "metadata": {},
   "source": [
    "Some of the commonly used libraries used by Data Scientists include:\n",
    "1. Numpy\n",
    "2. Matplotlib\n",
    "3. Scipy"
   ]
  },
  {
   "cell_type": "markdown",
   "id": "229678ab-0adb-4893-8cbf-296a766b8e62",
   "metadata": {},
   "source": [
    "| Data Science Tools |\n",
    "| ----- |\n",
    "| JupyterLab |\n",
    "| Anaconda |\n",
    "| Rstudio |"
   ]
  },
  {
   "cell_type": "markdown",
   "id": "7447d19f-7355-4fb0-9a93-cd4d5f3fe559",
   "metadata": {},
   "source": [
    "### Below are a few examples of evaluating arithmetic expressions in Python"
   ]
  },
  {
   "cell_type": "code",
   "execution_count": 1,
   "id": "1b2387b8-c9e5-454c-bec5-c7f33ceaaa49",
   "metadata": {},
   "outputs": [
    {
     "data": {
      "text/plain": [
       "17"
      ]
     },
     "execution_count": 1,
     "metadata": {},
     "output_type": "execute_result"
    }
   ],
   "source": [
    "# This is a simple arithmetic expression to multiply then add integers\n",
    "\n",
    "(3*4)+5"
   ]
  },
  {
   "cell_type": "code",
   "execution_count": 4,
   "id": "ff6eaece-2fe3-423c-8ffa-7d8304d9d4fd",
   "metadata": {},
   "outputs": [
    {
     "data": {
      "text/plain": [
       "3.3333333333333335"
      ]
     },
     "execution_count": 4,
     "metadata": {},
     "output_type": "execute_result"
    }
   ],
   "source": [
    "# This will convert 200 minutes to hours  by diving by 60\n",
    "\n",
    "nb_minutes = 200\n",
    "nb_minutes / 60"
   ]
  },
  {
   "cell_type": "markdown",
   "id": "f27df51a-d384-491c-b19d-47c13b435230",
   "metadata": {},
   "source": [
    "## Author\n",
    "Abdoulaye Gassama"
   ]
  },
  {
   "cell_type": "code",
   "execution_count": null,
   "id": "562646fe-5787-4e36-b027-8559ba933017",
   "metadata": {},
   "outputs": [],
   "source": []
  }
 ],
 "metadata": {
  "kernelspec": {
   "display_name": "Python 3 (ipykernel)",
   "language": "python",
   "name": "python3"
  },
  "language_info": {
   "codemirror_mode": {
    "name": "ipython",
    "version": 3
   },
   "file_extension": ".py",
   "mimetype": "text/x-python",
   "name": "python",
   "nbconvert_exporter": "python",
   "pygments_lexer": "ipython3",
   "version": "3.12.7"
  }
 },
 "nbformat": 4,
 "nbformat_minor": 5
}
